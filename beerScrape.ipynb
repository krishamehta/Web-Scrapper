{
 "cells": [
  {
   "cell_type": "code",
   "execution_count": 1,
   "metadata": {
    "collapsed": true
   },
   "outputs": [],
   "source": [
    "from urllib.request import urlopen\n",
    "from bs4 import BeautifulSoup\n",
    "import pandas as pd \n",
    "import re"
   ]
  },
  {
   "cell_type": "code",
   "execution_count": 2,
   "metadata": {
    "collapsed": true
   },
   "outputs": [],
   "source": [
    "def is_beer_entry(table_row):\n",
    "\trow_cells = table_row.findAll(\"td\")\n",
    "\tbeer_id = get_beer_id(row_cells[0].text)\n",
    "\treturn (len(row_cells)==8 and beer_id)\n",
    "\n",
    "def get_beer_id(cell_value):\n",
    "\tr = re.match(\"^(\\d{1,4})\\.$\", cell_value)\n",
    "\tif r and len(r.groups())==1:\n",
    "\t\tbeer_id = r.group(1)\n",
    "\t\treturn int(beer_id)\n",
    "\telse:\n",
    "\t\treturn None\t\n"
   ]
  },
  {
   "cell_type": "code",
   "execution_count": 3,
   "metadata": {
    "collapsed": true
   },
   "outputs": [],
   "source": [
    "def get_all_beers(html_soup):\n",
    "    beers = []\n",
    "    all_rows_in_html_page = html_soup.findAll(\"tr\")\n",
    "    for table_row in all_rows_in_html_page:\n",
    "        if is_beer_entry(table_row):\n",
    "            row_cells = table_row.findAll(\"td\")\n",
    "            beer_entry = {\n",
    "                \"id\": get_beer_id(row_cells[0].text),\n",
    "                \"name\": row_cells[1].text,\n",
    "                \"brewery_name\": row_cells[2].text,\n",
    "                \"brewery_location\": row_cells[3].text,\n",
    "                \"style\": row_cells[4].text,\n",
    "                \"size\": row_cells[5].text,\n",
    "                \"abv\": row_cells[6].text,    \n",
    "                \"ibu\": row_cells[7].text\n",
    "            }\n",
    "            beers.append(beer_entry)\n",
    "    return beers\n"
   ]
  },
  {
   "cell_type": "code",
   "execution_count": 4,
   "metadata": {
    "collapsed": true
   },
   "outputs": [],
   "source": [
    "html = urlopen(\"http://craftcans.com/db.php?search=all&sort=beerid&ord=desc&view=text\")\n",
    "html_soup = BeautifulSoup(html, 'html.parser')\n",
    "beers_list = get_all_beers(html_soup)\n"
   ]
  },
  {
   "cell_type": "code",
   "execution_count": 7,
   "metadata": {},
   "outputs": [
    {
     "data": {
      "text/html": [
       "<div>\n",
       "<style>\n",
       "    .dataframe thead tr:only-child th {\n",
       "        text-align: right;\n",
       "    }\n",
       "\n",
       "    .dataframe thead th {\n",
       "        text-align: left;\n",
       "    }\n",
       "\n",
       "    .dataframe tbody tr th {\n",
       "        vertical-align: top;\n",
       "    }\n",
       "</style>\n",
       "<table border=\"1\" class=\"dataframe\">\n",
       "  <thead>\n",
       "    <tr style=\"text-align: right;\">\n",
       "      <th></th>\n",
       "      <th>abv</th>\n",
       "      <th>brewery_location</th>\n",
       "      <th>brewery_name</th>\n",
       "      <th>ibu</th>\n",
       "      <th>id</th>\n",
       "      <th>name</th>\n",
       "      <th>size</th>\n",
       "      <th>style</th>\n",
       "    </tr>\n",
       "  </thead>\n",
       "  <tbody>\n",
       "    <tr>\n",
       "      <th>0</th>\n",
       "      <td>4.5%</td>\n",
       "      <td>Minneapolis, MN</td>\n",
       "      <td>NorthGate Brewing</td>\n",
       "      <td>50</td>\n",
       "      <td>2692</td>\n",
       "      <td>Get Together</td>\n",
       "      <td>16 oz.</td>\n",
       "      <td>American IPA</td>\n",
       "    </tr>\n",
       "    <tr>\n",
       "      <th>1</th>\n",
       "      <td>4.9%</td>\n",
       "      <td>Minneapolis, MN</td>\n",
       "      <td>NorthGate Brewing</td>\n",
       "      <td>26</td>\n",
       "      <td>2691</td>\n",
       "      <td>Maggie's Leap</td>\n",
       "      <td>16 oz.</td>\n",
       "      <td>Milk / Sweet Stout</td>\n",
       "    </tr>\n",
       "    <tr>\n",
       "      <th>2</th>\n",
       "      <td>4.8%</td>\n",
       "      <td>Minneapolis, MN</td>\n",
       "      <td>NorthGate Brewing</td>\n",
       "      <td>19</td>\n",
       "      <td>2690</td>\n",
       "      <td>Wall's End</td>\n",
       "      <td>16 oz.</td>\n",
       "      <td>English Brown Ale</td>\n",
       "    </tr>\n",
       "    <tr>\n",
       "      <th>3</th>\n",
       "      <td>6.0%</td>\n",
       "      <td>Minneapolis, MN</td>\n",
       "      <td>NorthGate Brewing</td>\n",
       "      <td>38</td>\n",
       "      <td>2689</td>\n",
       "      <td>Pumpion</td>\n",
       "      <td>16 oz.</td>\n",
       "      <td>Pumpkin Ale</td>\n",
       "    </tr>\n",
       "    <tr>\n",
       "      <th>4</th>\n",
       "      <td>6.0%</td>\n",
       "      <td>Minneapolis, MN</td>\n",
       "      <td>NorthGate Brewing</td>\n",
       "      <td>25</td>\n",
       "      <td>2688</td>\n",
       "      <td>Stronghold</td>\n",
       "      <td>16 oz.</td>\n",
       "      <td>American Porter</td>\n",
       "    </tr>\n",
       "  </tbody>\n",
       "</table>\n",
       "</div>"
      ],
      "text/plain": [
       "    abv brewery_location        brewery_name ibu    id           name    size  \\\n",
       "0  4.5%  Minneapolis, MN  NorthGate Brewing   50  2692   Get Together  16 oz.   \n",
       "1  4.9%  Minneapolis, MN  NorthGate Brewing   26  2691  Maggie's Leap  16 oz.   \n",
       "2  4.8%  Minneapolis, MN  NorthGate Brewing   19  2690     Wall's End  16 oz.   \n",
       "3  6.0%  Minneapolis, MN  NorthGate Brewing   38  2689        Pumpion  16 oz.   \n",
       "4  6.0%  Minneapolis, MN  NorthGate Brewing   25  2688     Stronghold  16 oz.   \n",
       "\n",
       "                style  \n",
       "0        American IPA  \n",
       "1  Milk / Sweet Stout  \n",
       "2   English Brown Ale  \n",
       "3         Pumpkin Ale  \n",
       "4     American Porter  "
      ]
     },
     "execution_count": 7,
     "metadata": {},
     "output_type": "execute_result"
    }
   ],
   "source": [
    "df = pd.DataFrame(beers_list)\n",
    "df.head(5)\n"
   ]
  },
  {
   "cell_type": "code",
   "execution_count": null,
   "metadata": {
    "collapsed": true
   },
   "outputs": [],
   "source": []
  }
 ],
 "metadata": {
  "kernelspec": {
   "display_name": "Python 3",
   "language": "python",
   "name": "python3"
  },
  "language_info": {
   "codemirror_mode": {
    "name": "ipython",
    "version": 3
   },
   "file_extension": ".py",
   "mimetype": "text/x-python",
   "name": "python",
   "nbconvert_exporter": "python",
   "pygments_lexer": "ipython3",
   "version": "3.6.1"
  }
 },
 "nbformat": 4,
 "nbformat_minor": 2
}
